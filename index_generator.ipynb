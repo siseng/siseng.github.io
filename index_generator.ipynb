{
 "cells": [
  {
   "cell_type": "code",
   "execution_count": 2,
   "metadata": {},
   "outputs": [
    {
     "data": {
      "text/plain": [
       "'ΥΡΔ'"
      ]
     },
     "execution_count": 2,
     "metadata": {},
     "output_type": "execute_result"
    }
   ],
   "source": [
    "import random\n",
    "\n",
    "yy = \"ΒΓΔΖΗΘΚΛΜΝΞΠΡΣΤΥΦΧΨΩ\"\n",
    "a = random.randint(1, 20)\n",
    "b = random.randint(1, 20)\n",
    "c = random.randint(1, 20)\n",
    "\n",
    "ret = yy[a-1]+yy[b-1]+yy[c-1]\n",
    "ret"
   ]
  },
  {
   "cell_type": "code",
   "execution_count": 6,
   "metadata": {},
   "outputs": [
    {
     "data": {
      "text/plain": [
       "array([0.01336173, 0.01889634, 0.02672346, 0.03779267, 0.05344691,\n",
       "       0.07558535, 0.10689382, 0.15117069, 0.21378765, 0.30234139])"
      ]
     },
     "execution_count": 6,
     "metadata": {},
     "output_type": "execute_result"
    }
   ],
   "source": [
    "import numpy as np \n",
    "\n",
    "aa = np.arange(10)\n",
    "aa = np.power(2,(aa - 10)/2)\n",
    "aa = aa/ np.sum(aa)\n",
    "aa"
   ]
  },
  {
   "cell_type": "code",
   "execution_count": 4,
   "metadata": {},
   "outputs": [
    {
     "data": {
      "text/html": [
       "<div>\n",
       "<style scoped>\n",
       "    .dataframe tbody tr th:only-of-type {\n",
       "        vertical-align: middle;\n",
       "    }\n",
       "\n",
       "    .dataframe tbody tr th {\n",
       "        vertical-align: top;\n",
       "    }\n",
       "\n",
       "    .dataframe thead th {\n",
       "        text-align: right;\n",
       "    }\n",
       "</style>\n",
       "<table border=\"1\" class=\"dataframe\">\n",
       "  <thead>\n",
       "    <tr style=\"text-align: right;\">\n",
       "      <th></th>\n",
       "      <th>aa</th>\n",
       "      <th>bb</th>\n",
       "      <th>cc</th>\n",
       "      <th>dd</th>\n",
       "      <th>ee</th>\n",
       "    </tr>\n",
       "  </thead>\n",
       "  <tbody>\n",
       "    <tr>\n",
       "      <th>aa</th>\n",
       "      <td>1.000000</td>\n",
       "      <td>0.647117</td>\n",
       "      <td>0.441157</td>\n",
       "      <td>0.445749</td>\n",
       "      <td>0.432660</td>\n",
       "    </tr>\n",
       "    <tr>\n",
       "      <th>bb</th>\n",
       "      <td>0.647117</td>\n",
       "      <td>1.000000</td>\n",
       "      <td>0.603382</td>\n",
       "      <td>0.612798</td>\n",
       "      <td>0.427657</td>\n",
       "    </tr>\n",
       "    <tr>\n",
       "      <th>cc</th>\n",
       "      <td>0.441157</td>\n",
       "      <td>0.603382</td>\n",
       "      <td>1.000000</td>\n",
       "      <td>0.842640</td>\n",
       "      <td>0.488860</td>\n",
       "    </tr>\n",
       "    <tr>\n",
       "      <th>dd</th>\n",
       "      <td>0.445749</td>\n",
       "      <td>0.612798</td>\n",
       "      <td>0.842640</td>\n",
       "      <td>1.000000</td>\n",
       "      <td>0.508454</td>\n",
       "    </tr>\n",
       "    <tr>\n",
       "      <th>ee</th>\n",
       "      <td>0.432660</td>\n",
       "      <td>0.427657</td>\n",
       "      <td>0.488860</td>\n",
       "      <td>0.508454</td>\n",
       "      <td>1.000000</td>\n",
       "    </tr>\n",
       "  </tbody>\n",
       "</table>\n",
       "</div>"
      ],
      "text/plain": [
       "          aa        bb        cc        dd        ee\n",
       "aa  1.000000  0.647117  0.441157  0.445749  0.432660\n",
       "bb  0.647117  1.000000  0.603382  0.612798  0.427657\n",
       "cc  0.441157  0.603382  1.000000  0.842640  0.488860\n",
       "dd  0.445749  0.612798  0.842640  1.000000  0.508454\n",
       "ee  0.432660  0.427657  0.488860  0.508454  1.000000"
      ]
     },
     "execution_count": 4,
     "metadata": {},
     "output_type": "execute_result"
    }
   ],
   "source": [
    "import numpy as np\n",
    "import pandas as pd\n",
    "\n",
    "factor_name = ['aa', 'bb', 'cc', 'dd', 'ee']\n",
    "\n",
    "aa = np.array([[1.,         0.64711706, 0.44115675, 0.44574935, 0.43266016],\n",
    " [0.64711706, 1.,         0.60338187, 0.6127979,  0.42765676],\n",
    " [0.44115675, 0.60338187, 1.,         0.84263969, 0.4888599 ],\n",
    " [0.44574935, 0.6127979 , 0.84263969, 1.,         0.50845375],\n",
    " [0.43266016, 0.42765676, 0.4888599,  0.50845375, 1.        ]])\n",
    "\n",
    "ret = pd.DataFrame(aa, index=factor_name, columns = factor_name)\n",
    "ret"
   ]
  },
  {
   "cell_type": "code",
   "execution_count": null,
   "metadata": {},
   "outputs": [],
   "source": []
  }
 ],
 "metadata": {
  "kernelspec": {
   "display_name": "Python 3",
   "language": "python",
   "name": "python3"
  },
  "language_info": {
   "codemirror_mode": {
    "name": "ipython",
    "version": 3
   },
   "file_extension": ".py",
   "mimetype": "text/x-python",
   "name": "python",
   "nbconvert_exporter": "python",
   "pygments_lexer": "ipython3",
   "version": "3.8.5"
  }
 },
 "nbformat": 4,
 "nbformat_minor": 4
}
